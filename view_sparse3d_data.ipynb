{
 "cells": [
  {
   "cell_type": "code",
   "execution_count": null,
   "id": "d491cd8c",
   "metadata": {},
   "outputs": [],
   "source": [
    "from __future__ import print_function\n",
    "import os,sys\n",
    "import chart_studio as cs\n",
    "import chart_studio.plotly as py\n",
    "import plotly.graph_objects as go\n",
    "import numpy as np\n",
    "import torch\n",
    "import ROOT as rt\n",
    "from larcv import larcv\n",
    "from drawbbox import DrawBBox"
   ]
  },
  {
   "cell_type": "code",
   "execution_count": null,
   "id": "32744119",
   "metadata": {},
   "outputs": [],
   "source": [
    "io = larcv.IOManager()\n",
    "io.add_in_file( \"dlprod_192px_00.root\" )\n",
    "io.initialize()"
   ]
  },
  {
   "cell_type": "code",
   "execution_count": null,
   "id": "5185cd2a",
   "metadata": {},
   "outputs": [],
   "source": [
    "io.read_entry(0)"
   ]
  },
  {
   "cell_type": "code",
   "execution_count": null,
   "id": "d117e7f7",
   "metadata": {},
   "outputs": [],
   "source": [
    "ev_data = io.get_data( larcv.kProductSparseTensor3D, \"data\")"
   ]
  },
  {
   "cell_type": "code",
   "execution_count": null,
   "id": "1e0db86c",
   "metadata": {},
   "outputs": [],
   "source": [
    "meta = ev_data.meta()\n",
    "print(meta.dump())\n",
    "bboxdrawer = DrawBBox(meta,draw_voxels=True)"
   ]
  },
  {
   "cell_type": "code",
   "execution_count": null,
   "id": "286ab969",
   "metadata": {},
   "outputs": [],
   "source": [
    "vox_v = ev_data.as_vector()\n",
    "print(\"num voxels: \",vox_v.size())"
   ]
  },
  {
   "cell_type": "code",
   "execution_count": null,
   "id": "b3ec76a3",
   "metadata": {},
   "outputs": [],
   "source": [
    "npvoxels = np.zeros( (192,192,192) )\n",
    "pos = np.zeros( (vox_v.size(),4) )\n",
    "for i in range(vox_v.size()):\n",
    "    voxel = vox_v.at(i)\n",
    "    px = meta.id_to_x_index( voxel.id() )\n",
    "    py = meta.id_to_y_index( voxel.id() )\n",
    "    pz = meta.id_to_z_index( voxel.id() )\n",
    "    pos[i,0] = px\n",
    "    pos[i,1] = py\n",
    "    pos[i,2] = pz\n",
    "    pos[i,3] = voxel.value()\n",
    "    #print(px,py,pz)\n",
    "    npvoxels[px,py,pz] = voxel.value()"
   ]
  },
  {
   "cell_type": "code",
   "execution_count": null,
   "id": "ed650e8b",
   "metadata": {},
   "outputs": [],
   "source": [
    "# PLOT THE DATA\n",
    "plot = {\"type\":\"scatter3d\",\n",
    "        \"x\":pos[:,0],\n",
    "        \"y\":pos[:,1],\n",
    "        \"z\":pos[:,2],\n",
    "        \"mode\":\"markers\",\n",
    "        \"name\":\"data\",\n",
    "        \"marker\":{\"color\":pos[:,3],\"size\":1,\"opacity\":0.8,\"colorscale\":'Viridis'},\n",
    "    }\n",
    "plots = [plot] + bboxdrawer.getlines()\n",
    "\n",
    "\n",
    "# LAYOUT\n",
    "axis_template = {\n",
    "    \"showbackground\": True,\n",
    "    \"backgroundcolor\": \"rgba(100, 100, 100,0.5)\",\n",
    "    \"gridcolor\": \"rgb(50, 50, 50)\",\n",
    "    \"zerolinecolor\": \"rgb(0, 0, 0)\",\n",
    "}\n",
    "\n",
    "\n",
    "layout = go.Layout(\n",
    "    title='In-time track clusters',\n",
    "    autosize=True,\n",
    "    hovermode='closest',\n",
    "    showlegend=False,\n",
    "    scene= {\n",
    "        \"xaxis\": axis_template,\n",
    "        \"yaxis\": axis_template,\n",
    "        \"zaxis\": axis_template,\n",
    "        \"aspectratio\": {\"x\": 1, \"y\": 1, \"z\": 1},\n",
    "        \"camera\": {\"eye\": {\"x\": -2, \"y\": 0.25, \"z\": 0.0},\n",
    "                   \"center\":dict(x=0, y=0, z=0),\n",
    "                   \"up\":dict(x=0, y=1, z=0)},\n",
    "        \"annotations\": [],\n",
    "    }\n",
    ")\n",
    "\n",
    "fig = go.Figure(data=plots, layout=layout)\n",
    "fig.show()"
   ]
  },
  {
   "cell_type": "code",
   "execution_count": null,
   "id": "d9ca9cfe",
   "metadata": {},
   "outputs": [],
   "source": []
  }
 ],
 "metadata": {
  "kernelspec": {
   "display_name": "Python 3 (ipykernel)",
   "language": "python",
   "name": "python3"
  },
  "language_info": {
   "codemirror_mode": {
    "name": "ipython",
    "version": 3
   },
   "file_extension": ".py",
   "mimetype": "text/x-python",
   "name": "python",
   "nbconvert_exporter": "python",
   "pygments_lexer": "ipython3",
   "version": "3.9.7"
  }
 },
 "nbformat": 4,
 "nbformat_minor": 5
}
